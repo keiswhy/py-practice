{
 "cells": [
  {
   "cell_type": "markdown",
   "metadata": {},
   "source": [
    "# Mean Normalization\n",
    "\n",
    "머신러닝 및 데이터 분석에서는 데이터 노멀라이징(정규화)을 합니다. \n",
    "정규화는 데이터의 범위를 0과 1로 변환하여 데이터 분포를 조정하는 방법입니다.\n",
    "예를 들어 여러개의 feature가 있는데 어떤거는 100 ~ 200사이의 값이고, 어떤거는 -10 ~ 10 사이의 값이고, 어떤거는 -100 ~ 300 사이의 값이라고 해보면, 이 값들을 분석하기 쉽지가 않습니다. 따라서 이런 불편을 줄이기 위해 범주를 일치시키는 작업을 normalization 이라 합니다. 보통은 0 ~ 1 사이의 값으로 범주를 일치시킵니다.\n",
    "\n"
   ]
  },
  {
   "cell_type": "code",
   "execution_count": 2,
   "metadata": {},
   "outputs": [],
   "source": [
    "# import NumPy  \n",
    "import numpy as np"
   ]
  },
  {
   "cell_type": "code",
   "execution_count": 56,
   "metadata": {},
   "outputs": [],
   "source": [
    "# 1000 x 20 ndarray 배열을, 0이상 5001미만(0 ~ 5000) 의 random integers 로 만드세요. \n",
    "\n",
    "import random\n",
    "\n",
    "X= []"
   ]
  },
  {
   "cell_type": "code",
   "execution_count": 57,
   "metadata": {},
   "outputs": [],
   "source": [
    "\n",
    "X= np.random.randint(0,5001, size =(1000,20))"
   ]
  },
  {
   "cell_type": "code",
   "execution_count": 58,
   "metadata": {},
   "outputs": [
    {
     "data": {
      "text/plain": [
       "array([[4708, 4640, 4513, ..., 4296, 2102, 1436],\n",
       "       [2922,   49,  195, ..., 2708,  614, 2837],\n",
       "       [1269, 2716, 4038, ..., 1389,  623, 2922],\n",
       "       ...,\n",
       "       [1291, 2401, 3943, ..., 4762, 1413,  678],\n",
       "       [3934, 1024, 3732, ..., 1748, 3359, 3994],\n",
       "       [3314, 4278, 4796, ..., 4598, 1503, 2972]])"
      ]
     },
     "execution_count": 58,
     "metadata": {},
     "output_type": "execute_result"
    }
   ],
   "source": [
    "X"
   ]
  },
  {
   "cell_type": "code",
   "execution_count": 59,
   "metadata": {},
   "outputs": [
    {
     "data": {
      "text/plain": [
       "(1000, 20)"
      ]
     },
     "execution_count": 59,
     "metadata": {},
     "output_type": "execute_result"
    }
   ],
   "source": [
    "# print the shape of X\n",
    "X.shape\n"
   ]
  },
  {
   "cell_type": "markdown",
   "metadata": {},
   "source": [
    "다음의 mean normalization 식을 이용해서 정규화 하세요.\n",
    "\n",
    "$\\mbox{Norm_Col}_i = \\frac{\\mbox{Col}_i - \\mu_i}{\\sigma_i}$\n",
    "\n",
    "평균과 표준편차를 이용하면, 위의 정규화 식을 사용할 수 있습니다.\n",
    "\n"
   ]
  },
  {
   "cell_type": "code",
   "execution_count": 66,
   "metadata": {},
   "outputs": [
    {
     "data": {
      "text/plain": [
       "2495.02385"
      ]
     },
     "execution_count": 66,
     "metadata": {},
     "output_type": "execute_result"
    }
   ],
   "source": [
    "np.mean(X)"
   ]
  },
  {
   "cell_type": "code",
   "execution_count": 67,
   "metadata": {
    "scrolled": true
   },
   "outputs": [],
   "source": [
    "# 열 고정, 각행에 대한 평균, 즉 모든 열별 평균값\n",
    "\n",
    "ave_cols = np.mean(X, axis = 0)"
   ]
  },
  {
   "cell_type": "code",
   "execution_count": 68,
   "metadata": {},
   "outputs": [
    {
     "data": {
      "text/plain": [
       "array([2489.842, 2540.462, 2593.653, 2542.983, 2501.238, 2493.133,\n",
       "       2460.456, 2457.364, 2484.636, 2480.39 , 2423.032, 2451.489,\n",
       "       2512.059, 2441.028, 2538.395, 2480.95 , 2487.158, 2494.392,\n",
       "       2468.3  , 2559.517])"
      ]
     },
     "execution_count": 68,
     "metadata": {},
     "output_type": "execute_result"
    }
   ],
   "source": [
    "ave_cols"
   ]
  },
  {
   "cell_type": "code",
   "execution_count": null,
   "metadata": {},
   "outputs": [],
   "source": []
  },
  {
   "cell_type": "code",
   "execution_count": 63,
   "metadata": {},
   "outputs": [],
   "source": [
    "# 열을 고정하고 각 행에 대한 표준편차, 즉 모든 열별 표준편차값을 얻어온다.\n",
    "std_cols = np.std(X, axis = 0)"
   ]
  },
  {
   "cell_type": "code",
   "execution_count": 64,
   "metadata": {},
   "outputs": [
    {
     "data": {
      "text/plain": [
       "array([1429.15730031, 1454.09954837, 1426.74338498, 1436.84394028,\n",
       "       1452.70922258, 1442.77354817, 1463.87793619, 1432.1141943 ,\n",
       "       1455.35963992, 1484.48083514, 1443.40491511, 1435.59126282,\n",
       "       1437.9490643 , 1410.56607403, 1413.0325258 , 1468.59175658,\n",
       "       1436.21739546, 1459.1026305 , 1472.28844728, 1460.02429216])"
      ]
     },
     "execution_count": 64,
     "metadata": {},
     "output_type": "execute_result"
    }
   ],
   "source": [
    "std_cols"
   ]
  },
  {
   "cell_type": "code",
   "execution_count": null,
   "metadata": {},
   "outputs": [],
   "source": []
  },
  {
   "cell_type": "markdown",
   "metadata": {},
   "source": [
    "각 벡터의 shape 을 확인하세요."
   ]
  },
  {
   "cell_type": "code",
   "execution_count": null,
   "metadata": {},
   "outputs": [],
   "source": [
    "# Print the shape of ave_cols\n",
    " \n",
    "# Print the shape of std_cols\n",
    " "
   ]
  },
  {
   "cell_type": "code",
   "execution_count": null,
   "metadata": {},
   "outputs": [],
   "source": []
  },
  {
   "cell_type": "code",
   "execution_count": null,
   "metadata": {},
   "outputs": [],
   "source": []
  },
  {
   "cell_type": "markdown",
   "metadata": {},
   "source": [
    "위 공식대로 노멀라이제이션 하세요."
   ]
  },
  {
   "cell_type": "code",
   "execution_count": 71,
   "metadata": {},
   "outputs": [],
   "source": [
    "# Mean normalize X\n",
    "X_norm =  ( X -ave_cols) / std_cols\n"
   ]
  },
  {
   "cell_type": "code",
   "execution_count": null,
   "metadata": {},
   "outputs": [],
   "source": []
  },
  {
   "cell_type": "markdown",
   "metadata": {},
   "source": [
    "제대로 수행했으면 아마 $X_{\\tiny{\\mbox{norm}}}$ 배열은 값들이 0 근처의 값들로 나올겁니다.아래를 통해 확인하세요."
   ]
  },
  {
   "cell_type": "code",
   "execution_count": 72,
   "metadata": {},
   "outputs": [
    {
     "name": "stdout",
     "output_type": "stream",
     "text": [
      "[[ 1.55207408  1.44387501  1.34526434 ...  1.234737   -0.24879636\n",
      "  -0.76951939]\n",
      " [ 0.30238659 -1.71340539 -1.68120843 ...  0.14639683 -1.25946787\n",
      "   0.19005369]\n",
      " [-0.85423907  0.12071938  1.01233832 ... -0.75758345 -1.25335494\n",
      "   0.2482719 ]\n",
      " ...\n",
      " [-0.83884538 -0.09590953  0.94575311 ...  1.55411138 -0.7167753\n",
      "  -1.28868883]\n",
      " [ 1.01049619 -1.04288733  0.79786387 ... -0.51154181  0.60497656\n",
      "   0.98250626]\n",
      " [ 0.5766741   1.19492369  1.54361816 ...  1.44171353 -0.65564598\n",
      "   0.2825179 ]]\n"
     ]
    }
   ],
   "source": [
    "# X_norm 을 출력(프린트) 하세요.\n",
    "\n",
    "print(X_norm)"
   ]
  },
  {
   "cell_type": "code",
   "execution_count": 73,
   "metadata": {},
   "outputs": [
    {
     "data": {
      "text/plain": [
       "array([-1.74217492, -1.74641551, -1.81788332, -1.76983939, -1.72177471,\n",
       "       -1.72662786, -1.67189896, -1.70263238, -1.70654451, -1.6681859 ,\n",
       "       -1.67661338, -1.70416822, -1.74558269, -1.72840397, -1.79641654,\n",
       "       -1.68933946, -1.73174201, -1.70474095, -1.67378886, -1.75237975])"
      ]
     },
     "execution_count": 73,
     "metadata": {},
     "output_type": "execute_result"
    }
   ],
   "source": [
    "# 각 컬럼(열)별 minimum value 를 출력하세요.\n",
    "np.min(X_norm, axis = 0)"
   ]
  },
  {
   "cell_type": "code",
   "execution_count": 74,
   "metadata": {},
   "outputs": [
    {
     "data": {
      "text/plain": [
       "array([1.75569057, 1.68938777, 1.68379754, 1.70583383, 1.71869357,\n",
       "       1.72921593, 1.73139026, 1.77195088, 1.72216127, 1.69123773,\n",
       "       1.78118279, 1.77453783, 1.72672389, 1.80563821, 1.73358005,\n",
       "       1.7132399 , 1.74405491, 1.71585463, 1.7182095 , 1.66742637])"
      ]
     },
     "execution_count": 74,
     "metadata": {},
     "output_type": "execute_result"
    }
   ],
   "source": [
    "# 각 컬럼(열)별 maximum value 를 출력하세요.\n",
    "np.max(X_norm, axis = 0)"
   ]
  },
  {
   "cell_type": "code",
   "execution_count": 77,
   "metadata": {},
   "outputs": [
    {
     "data": {
      "text/plain": [
       "array([2489.842, 2540.462, 2593.653, 2542.983, 2501.238, 2493.133,\n",
       "       2460.456, 2457.364, 2484.636, 2480.39 , 2423.032, 2451.489,\n",
       "       2512.059, 2441.028, 2538.395, 2480.95 , 2487.158, 2494.392,\n",
       "       2468.3  , 2559.517])"
      ]
     },
     "execution_count": 77,
     "metadata": {},
     "output_type": "execute_result"
    }
   ],
   "source": [
    "np.mean(X, axis = 0)"
   ]
  },
  {
   "cell_type": "code",
   "execution_count": null,
   "metadata": {},
   "outputs": [],
   "source": []
  }
 ],
 "metadata": {
  "kernelspec": {
   "display_name": "Python 3",
   "language": "python",
   "name": "python3"
  },
  "language_info": {
   "codemirror_mode": {
    "name": "ipython",
    "version": 3
   },
   "file_extension": ".py",
   "mimetype": "text/x-python",
   "name": "python",
   "nbconvert_exporter": "python",
   "pygments_lexer": "ipython3",
   "version": "3.8.3"
  }
 },
 "nbformat": 4,
 "nbformat_minor": 2
}
